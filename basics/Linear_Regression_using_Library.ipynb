{
 "cells": [
  {
   "cell_type": "markdown",
   "metadata": {},
   "source": [
    " # Linear Regression Implimentation \n",
    " ## using sklearn library \n",
    " "
   ]
  },
  {
   "cell_type": "code",
   "execution_count": 6,
   "metadata": {},
   "outputs": [
    {
     "name": "stdout",
     "output_type": "stream",
     "text": [
      "0.639311719957\n"
     ]
    }
   ],
   "source": [
    "# import libraries\n",
    "from sklearn.linear_model import LinearRegression\n",
    "from sklearn.metrics import mean_squared_error\n",
    "import pandas as pd\n",
    "\n",
    "#load data \n",
    "data = pd.read_csv('headbrain.csv')\n",
    "\n",
    "X = data['Head Size(cm^3)'].values\n",
    "Y = data['Brain Weight(grams)'].values\n",
    "\n",
    "n = len(X)\n",
    "# Can not use rank 1 matrix in sciket learn\n",
    "X = X.reshape((n, 1))\n",
    "#creating Model\n",
    "reg = LinearRegression()\n",
    "#Fitting training data\n",
    "reg = reg.fit(X, Y)\n",
    "# Y prediction\n",
    "Y_pred = reg.predict(X)\n",
    "\n",
    "\n",
    "#Calculating R2 score(X, Y)\n",
    "r2_score = reg.score(X, Y)\n",
    "print(r2_score)"
   ]
  },
  {
   "cell_type": "code",
   "execution_count": null,
   "metadata": {},
   "outputs": [],
   "source": []
  }
 ],
 "metadata": {
  "kernelspec": {
   "display_name": "Python 3",
   "language": "python",
   "name": "python3"
  },
  "language_info": {
   "codemirror_mode": {
    "name": "ipython",
    "version": 3
   },
   "file_extension": ".py",
   "mimetype": "text/x-python",
   "name": "python",
   "nbconvert_exporter": "python",
   "pygments_lexer": "ipython3",
   "version": "3.7.1"
  }
 },
 "nbformat": 4,
 "nbformat_minor": 2
}
